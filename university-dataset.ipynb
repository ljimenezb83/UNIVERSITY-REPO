{
 "cells": [
  {
   "cell_type": "markdown",
   "metadata": {},
   "source": [
    "### Import libraries"
   ]
  },
  {
   "cell_type": "code",
   "execution_count": 106,
   "metadata": {},
   "outputs": [],
   "source": [
    "import pandas as pd\n",
    "import numpy as np\n",
    "import matplotlib.pyplot as plt\n",
    "import seaborn as sns"
   ]
  },
  {
   "cell_type": "markdown",
   "metadata": {},
   "source": [
    "### Load Data"
   ]
  },
  {
   "cell_type": "code",
   "execution_count": 107,
   "metadata": {},
   "outputs": [],
   "source": [
    "udata = pd.read_csv('https://s3-us-west-2.amazonaws.com/learn-assets.galvanize.com/gSchool/ds-curriculum/sql-block/universities.csv')"
   ]
  },
  {
   "cell_type": "markdown",
   "metadata": {},
   "source": [
    "### Inspect Data"
   ]
  },
  {
   "cell_type": "code",
   "execution_count": 108,
   "metadata": {},
   "outputs": [
    {
     "data": {
      "text/html": [
       "<div>\n",
       "<style scoped>\n",
       "    .dataframe tbody tr th:only-of-type {\n",
       "        vertical-align: middle;\n",
       "    }\n",
       "\n",
       "    .dataframe tbody tr th {\n",
       "        vertical-align: top;\n",
       "    }\n",
       "\n",
       "    .dataframe thead th {\n",
       "        text-align: right;\n",
       "    }\n",
       "</style>\n",
       "<table border=\"1\" class=\"dataframe\">\n",
       "  <thead>\n",
       "    <tr style=\"text-align: right;\">\n",
       "      <th></th>\n",
       "      <th>name</th>\n",
       "      <th>address</th>\n",
       "      <th>Website</th>\n",
       "      <th>Type</th>\n",
       "      <th>Size</th>\n",
       "    </tr>\n",
       "  </thead>\n",
       "  <tbody>\n",
       "    <tr>\n",
       "      <th>0</th>\n",
       "      <td>A T Still University of Health Sciences</td>\n",
       "      <td>800 W Jefferson, Kirksville, Missouri 63501</td>\n",
       "      <td>WWW.ATSU.EDU</td>\n",
       "      <td>4-year, Private not-for-profit</td>\n",
       "      <td>3480.0</td>\n",
       "    </tr>\n",
       "    <tr>\n",
       "      <th>1</th>\n",
       "      <td>Abilene Christian University</td>\n",
       "      <td>1600 Campus Court, Abilene, Texas 79699</td>\n",
       "      <td>www.acu.edu</td>\n",
       "      <td>4-year, Private not-for-profit</td>\n",
       "      <td>4669.0</td>\n",
       "    </tr>\n",
       "    <tr>\n",
       "      <th>2</th>\n",
       "      <td>Abraham Baldwin Agricultural College</td>\n",
       "      <td>2802 Moore Hwy, Tifton, Georgia 31793-2601</td>\n",
       "      <td>www.abac.edu</td>\n",
       "      <td>4-year, primarily associate's, Public</td>\n",
       "      <td>3600.0</td>\n",
       "    </tr>\n",
       "    <tr>\n",
       "      <th>3</th>\n",
       "      <td>Academy College</td>\n",
       "      <td>1101 E. 78th Street, Suite 100, Minneapolis, M...</td>\n",
       "      <td>www.academycollege.edu</td>\n",
       "      <td>4-year, primarily associate's, Private for-profit</td>\n",
       "      <td>165.0</td>\n",
       "    </tr>\n",
       "    <tr>\n",
       "      <th>4</th>\n",
       "      <td>Academy for Five Element Acupuncture</td>\n",
       "      <td>305 SE 2nd Ave, Gainesville, Florida 32601</td>\n",
       "      <td>www.acupuncturist.edu</td>\n",
       "      <td>4-year, Private not-for-profit</td>\n",
       "      <td>51.0</td>\n",
       "    </tr>\n",
       "  </tbody>\n",
       "</table>\n",
       "</div>"
      ],
      "text/plain": [
       "                                      name  \\\n",
       "0  A T Still University of Health Sciences   \n",
       "1             Abilene Christian University   \n",
       "2     Abraham Baldwin Agricultural College   \n",
       "3                          Academy College   \n",
       "4     Academy for Five Element Acupuncture   \n",
       "\n",
       "                                             address                 Website  \\\n",
       "0        800 W Jefferson, Kirksville, Missouri 63501            WWW.ATSU.EDU   \n",
       "1            1600 Campus Court, Abilene, Texas 79699             www.acu.edu   \n",
       "2         2802 Moore Hwy, Tifton, Georgia 31793-2601            www.abac.edu   \n",
       "3  1101 E. 78th Street, Suite 100, Minneapolis, M...  www.academycollege.edu   \n",
       "4         305 SE 2nd Ave, Gainesville, Florida 32601   www.acupuncturist.edu   \n",
       "\n",
       "                                                Type    Size  \n",
       "0                     4-year, Private not-for-profit  3480.0  \n",
       "1                     4-year, Private not-for-profit  4669.0  \n",
       "2              4-year, primarily associate's, Public  3600.0  \n",
       "3  4-year, primarily associate's, Private for-profit   165.0  \n",
       "4                     4-year, Private not-for-profit    51.0  "
      ]
     },
     "execution_count": 108,
     "metadata": {},
     "output_type": "execute_result"
    }
   ],
   "source": [
    "udata.head()"
   ]
  },
  {
   "cell_type": "code",
   "execution_count": 109,
   "metadata": {},
   "outputs": [
    {
     "name": "stdout",
     "output_type": "stream",
     "text": [
      "<class 'pandas.core.frame.DataFrame'>\n",
      "RangeIndex: 2907 entries, 0 to 2906\n",
      "Data columns (total 5 columns):\n",
      " #   Column   Non-Null Count  Dtype  \n",
      "---  ------   --------------  -----  \n",
      " 0   name     2907 non-null   object \n",
      " 1   address  2907 non-null   object \n",
      " 2   Website  2822 non-null   object \n",
      " 3   Type     2907 non-null   object \n",
      " 4   Size     2829 non-null   float64\n",
      "dtypes: float64(1), object(4)\n",
      "memory usage: 113.7+ KB\n"
     ]
    }
   ],
   "source": [
    "udata.info()"
   ]
  },
  {
   "cell_type": "code",
   "execution_count": 110,
   "metadata": {},
   "outputs": [
    {
     "data": {
      "text/html": [
       "<div>\n",
       "<style scoped>\n",
       "    .dataframe tbody tr th:only-of-type {\n",
       "        vertical-align: middle;\n",
       "    }\n",
       "\n",
       "    .dataframe tbody tr th {\n",
       "        vertical-align: top;\n",
       "    }\n",
       "\n",
       "    .dataframe thead th {\n",
       "        text-align: right;\n",
       "    }\n",
       "</style>\n",
       "<table border=\"1\" class=\"dataframe\">\n",
       "  <thead>\n",
       "    <tr style=\"text-align: right;\">\n",
       "      <th></th>\n",
       "      <th>Size</th>\n",
       "    </tr>\n",
       "  </thead>\n",
       "  <tbody>\n",
       "    <tr>\n",
       "      <th>count</th>\n",
       "      <td>2829.00000</td>\n",
       "    </tr>\n",
       "    <tr>\n",
       "      <th>mean</th>\n",
       "      <td>4374.88123</td>\n",
       "    </tr>\n",
       "    <tr>\n",
       "      <th>std</th>\n",
       "      <td>9256.38326</td>\n",
       "    </tr>\n",
       "    <tr>\n",
       "      <th>min</th>\n",
       "      <td>4.00000</td>\n",
       "    </tr>\n",
       "    <tr>\n",
       "      <th>25%</th>\n",
       "      <td>493.00000</td>\n",
       "    </tr>\n",
       "    <tr>\n",
       "      <th>50%</th>\n",
       "      <td>1478.00000</td>\n",
       "    </tr>\n",
       "    <tr>\n",
       "      <th>75%</th>\n",
       "      <td>4064.00000</td>\n",
       "    </tr>\n",
       "    <tr>\n",
       "      <th>max</th>\n",
       "      <td>301323.00000</td>\n",
       "    </tr>\n",
       "  </tbody>\n",
       "</table>\n",
       "</div>"
      ],
      "text/plain": [
       "               Size\n",
       "count    2829.00000\n",
       "mean     4374.88123\n",
       "std      9256.38326\n",
       "min         4.00000\n",
       "25%       493.00000\n",
       "50%      1478.00000\n",
       "75%      4064.00000\n",
       "max    301323.00000"
      ]
     },
     "execution_count": 110,
     "metadata": {},
     "output_type": "execute_result"
    }
   ],
   "source": [
    "udata.describe()"
   ]
  },
  {
   "cell_type": "markdown",
   "metadata": {},
   "source": [
    "### Split the address --> City, State, ZipCode"
   ]
  },
  {
   "cell_type": "code",
   "execution_count": 111,
   "metadata": {},
   "outputs": [
    {
     "data": {
      "text/plain": [
       "0         [800 W Jefferson,  Kirksville,  Missouri 63501]\n",
       "1             [1600 Campus Court,  Abilene,  Texas 79699]\n",
       "2          [2802 Moore Hwy,  Tifton,  Georgia 31793-2601]\n",
       "3       [1101 E. 78th Street,  Suite 100,  Minneapolis...\n",
       "4          [305 SE 2nd Ave,  Gainesville,  Florida 32601]\n",
       "                              ...                        \n",
       "2902    [13315 W. Washington Boulevard,  Los Angeles, ...\n",
       "2903         [1125 E 8th St,  York,  Nebraska 68467-2699]\n",
       "2904    [Country Club Rd,  York,  Pennsylvania 17403-3...\n",
       "2905    [One University Plaza,  Youngstown,  Ohio 4455...\n",
       "2906    [320 South Main Street,  Haverhill,  Massachus...\n",
       "Name: address, Length: 2907, dtype: object"
      ]
     },
     "execution_count": 111,
     "metadata": {},
     "output_type": "execute_result"
    }
   ],
   "source": [
    "var_split = udata['address'].str.split(',')\n",
    "# type(var_split)\n",
    "var_split"
   ]
  },
  {
   "cell_type": "code",
   "execution_count": 112,
   "metadata": {},
   "outputs": [],
   "source": [
    "udata['address'] = var_split.str.get(0)\n",
    "udata['City'] = var_split.str.get(1)\n",
    "udata['State'] = var_split.str.get(2)\n",
    "udata['Zipcode'] = var_split.str.get(-1)\n",
    "\n",
    "splitstate = udata['State'].str.split()\n",
    "splitzip = udata['Zipcode'].str.split() \n",
    "\n",
    "udata['State'] = splitstate.str.get(0)\n",
    "udata['Zipcode'] = splitzip.str.get(-1)"
   ]
  },
  {
   "cell_type": "code",
   "execution_count": 113,
   "metadata": {},
   "outputs": [
    {
     "data": {
      "text/html": [
       "<div>\n",
       "<style scoped>\n",
       "    .dataframe tbody tr th:only-of-type {\n",
       "        vertical-align: middle;\n",
       "    }\n",
       "\n",
       "    .dataframe tbody tr th {\n",
       "        vertical-align: top;\n",
       "    }\n",
       "\n",
       "    .dataframe thead th {\n",
       "        text-align: right;\n",
       "    }\n",
       "</style>\n",
       "<table border=\"1\" class=\"dataframe\">\n",
       "  <thead>\n",
       "    <tr style=\"text-align: right;\">\n",
       "      <th></th>\n",
       "      <th>name</th>\n",
       "      <th>address</th>\n",
       "      <th>Website</th>\n",
       "      <th>Type</th>\n",
       "      <th>Size</th>\n",
       "      <th>City</th>\n",
       "      <th>State</th>\n",
       "      <th>Zipcode</th>\n",
       "    </tr>\n",
       "  </thead>\n",
       "  <tbody>\n",
       "    <tr>\n",
       "      <th>0</th>\n",
       "      <td>A T Still University of Health Sciences</td>\n",
       "      <td>800 W Jefferson</td>\n",
       "      <td>WWW.ATSU.EDU</td>\n",
       "      <td>4-year, Private not-for-profit</td>\n",
       "      <td>3480.0</td>\n",
       "      <td>Kirksville</td>\n",
       "      <td>Missouri</td>\n",
       "      <td>63501</td>\n",
       "    </tr>\n",
       "    <tr>\n",
       "      <th>1</th>\n",
       "      <td>Abilene Christian University</td>\n",
       "      <td>1600 Campus Court</td>\n",
       "      <td>www.acu.edu</td>\n",
       "      <td>4-year, Private not-for-profit</td>\n",
       "      <td>4669.0</td>\n",
       "      <td>Abilene</td>\n",
       "      <td>Texas</td>\n",
       "      <td>79699</td>\n",
       "    </tr>\n",
       "    <tr>\n",
       "      <th>2</th>\n",
       "      <td>Abraham Baldwin Agricultural College</td>\n",
       "      <td>2802 Moore Hwy</td>\n",
       "      <td>www.abac.edu</td>\n",
       "      <td>4-year, primarily associate's, Public</td>\n",
       "      <td>3600.0</td>\n",
       "      <td>Tifton</td>\n",
       "      <td>Georgia</td>\n",
       "      <td>31793-2601</td>\n",
       "    </tr>\n",
       "    <tr>\n",
       "      <th>3</th>\n",
       "      <td>Academy College</td>\n",
       "      <td>1101 E. 78th Street</td>\n",
       "      <td>www.academycollege.edu</td>\n",
       "      <td>4-year, primarily associate's, Private for-profit</td>\n",
       "      <td>165.0</td>\n",
       "      <td>Suite 100</td>\n",
       "      <td>Minneapolis</td>\n",
       "      <td>55420-1554</td>\n",
       "    </tr>\n",
       "    <tr>\n",
       "      <th>4</th>\n",
       "      <td>Academy for Five Element Acupuncture</td>\n",
       "      <td>305 SE 2nd Ave</td>\n",
       "      <td>www.acupuncturist.edu</td>\n",
       "      <td>4-year, Private not-for-profit</td>\n",
       "      <td>51.0</td>\n",
       "      <td>Gainesville</td>\n",
       "      <td>Florida</td>\n",
       "      <td>32601</td>\n",
       "    </tr>\n",
       "  </tbody>\n",
       "</table>\n",
       "</div>"
      ],
      "text/plain": [
       "                                      name              address  \\\n",
       "0  A T Still University of Health Sciences      800 W Jefferson   \n",
       "1             Abilene Christian University    1600 Campus Court   \n",
       "2     Abraham Baldwin Agricultural College       2802 Moore Hwy   \n",
       "3                          Academy College  1101 E. 78th Street   \n",
       "4     Academy for Five Element Acupuncture       305 SE 2nd Ave   \n",
       "\n",
       "                  Website                                               Type  \\\n",
       "0            WWW.ATSU.EDU                     4-year, Private not-for-profit   \n",
       "1             www.acu.edu                     4-year, Private not-for-profit   \n",
       "2            www.abac.edu              4-year, primarily associate's, Public   \n",
       "3  www.academycollege.edu  4-year, primarily associate's, Private for-profit   \n",
       "4   www.acupuncturist.edu                     4-year, Private not-for-profit   \n",
       "\n",
       "     Size          City        State     Zipcode  \n",
       "0  3480.0    Kirksville     Missouri       63501  \n",
       "1  4669.0       Abilene        Texas       79699  \n",
       "2  3600.0        Tifton      Georgia  31793-2601  \n",
       "3   165.0     Suite 100  Minneapolis  55420-1554  \n",
       "4    51.0   Gainesville      Florida       32601  "
      ]
     },
     "execution_count": 113,
     "metadata": {},
     "output_type": "execute_result"
    }
   ],
   "source": [
    "udata.head()"
   ]
  },
  {
   "cell_type": "markdown",
   "metadata": {},
   "source": [
    "### Private or Public"
   ]
  },
  {
   "cell_type": "code",
   "execution_count": null,
   "metadata": {},
   "outputs": [],
   "source": []
  },
  {
   "cell_type": "markdown",
   "metadata": {},
   "source": [
    "### For-profit, Not-for-Profit"
   ]
  },
  {
   "cell_type": "code",
   "execution_count": null,
   "metadata": {},
   "outputs": [],
   "source": []
  },
  {
   "cell_type": "markdown",
   "metadata": {},
   "source": [
    "### Primarily Associate's (1 for Yes, 0 for No)"
   ]
  },
  {
   "cell_type": "markdown",
   "metadata": {},
   "source": [
    "\n",
    "- Using the new columns you've made above (and excluding the original type column), find both the mean and median size of each university by State, by Private or Public, and by whether the university is primarily associate's or not.\n",
    "\n",
    "- Use the tools you've learned to compute at **least** one other aggregate from the dataset\n",
    "\n",
    "- Save the updated dataframe as a csv  (using the pandas to_csv method) and commit your files, and push up to github.\n",
    "\n"
   ]
  },
  {
   "cell_type": "code",
   "execution_count": null,
   "metadata": {},
   "outputs": [],
   "source": []
  },
  {
   "cell_type": "code",
   "execution_count": null,
   "metadata": {},
   "outputs": [],
   "source": []
  },
  {
   "cell_type": "code",
   "execution_count": null,
   "metadata": {},
   "outputs": [],
   "source": []
  },
  {
   "cell_type": "code",
   "execution_count": null,
   "metadata": {},
   "outputs": [],
   "source": []
  },
  {
   "cell_type": "code",
   "execution_count": null,
   "metadata": {},
   "outputs": [],
   "source": []
  },
  {
   "cell_type": "code",
   "execution_count": null,
   "metadata": {},
   "outputs": [],
   "source": []
  }
 ],
 "metadata": {
  "kernelspec": {
   "display_name": "Python 3",
   "language": "python",
   "name": "python3"
  },
  "language_info": {
   "codemirror_mode": {
    "name": "ipython",
    "version": 3
   },
   "file_extension": ".py",
   "mimetype": "text/x-python",
   "name": "python",
   "nbconvert_exporter": "python",
   "pygments_lexer": "ipython3",
   "version": "3.7.7"
  }
 },
 "nbformat": 4,
 "nbformat_minor": 4
}
